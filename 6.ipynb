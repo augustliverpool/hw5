{
 "cells": [
  {
   "cell_type": "code",
   "execution_count": 1,
   "metadata": {},
   "outputs": [],
   "source": [
    "import pandas as pd\n",
    "df=pd.read_csv(\"sample_diabetes_mellitus_data.csv\",index_col=0)\n",
    "\n"
   ]
  },
  {
   "cell_type": "code",
   "execution_count": 10,
   "metadata": {},
   "outputs": [],
   "source": [
    "import pandas as pd\n",
    "from sklearn.model_selection import train_test_split\n",
    "\n",
    "class DataLoader:\n",
    "    def __init__(self, file_path):\n",
    "        self.file_path = file_path\n",
    "\n",
    "    def load_data(self):\n",
    "        \"\"\"\n",
    "        加载数据，返回DataFrame。\n",
    "        \"\"\"\n",
    "        data = pd.read_csv(self.file_path, index_col=0)\n",
    "        return data\n",
    "\n",
    "    def split_data(self, data):\n",
    "        \"\"\"\n",
    "        将数据分为训练集和测试集，默认使用 80% 训练集和 20% 测试集。\n",
    "        \"\"\"\n",
    "        train_data, test_data = train_test_split(data, test_size=0.2, random_state=42)\n",
    "        return train_data, test_data\n"
   ]
  },
  {
   "cell_type": "code",
   "execution_count": 3,
   "metadata": {},
   "outputs": [],
   "source": [
    "class DropNaPreprocessor:\n",
    "    def __init__(self, columns):\n",
    "        self.columns = columns\n",
    "\n",
    "    def process(self, data):\n",
    "        return data.dropna(subset=self.columns)\n"
   ]
  },
  {
   "cell_type": "code",
   "execution_count": 4,
   "metadata": {},
   "outputs": [],
   "source": [
    "class FillNaPreprocessor:\n",
    "    def __init__(self, columns):\n",
    "        self.columns = columns\n",
    "\n",
    "    def process(self, data):\n",
    "        for column in self.columns:\n",
    "            data[column].fillna(data[column].mean(), inplace=True)\n",
    "        return data"
   ]
  },
  {
   "cell_type": "code",
   "execution_count": 5,
   "metadata": {},
   "outputs": [],
   "source": [
    "import pandas as pd\n",
    "from sklearn.preprocessing import OneHotEncoder\n",
    "from sklearn.compose import ColumnTransformer\n",
    "\n",
    "class DataTransformer:\n",
    "    def __init__(self, data):\n",
    "        \"\"\"\n",
    "        初始化 DataTransformer 类，自动区分分类和数值特征\n",
    "        :param data: pandas DataFrame, 要处理的数据集\n",
    "        \"\"\"\n",
    "        self.data = data\n",
    "        \n",
    "        self.categorical_features = self.data.select_dtypes(include=['object']).columns.tolist()\n",
    "        self.numerical_features = self.data.select_dtypes(include=['number']).columns.tolist()\n",
    "\n",
    "        self.preprocessor = ColumnTransformer(\n",
    "            transformers=[\n",
    "                ('cat', OneHotEncoder(), self.categorical_features),  # 对分类特征进行独热编码\n",
    "                ('num', 'passthrough', self.numerical_features)       # 保持数值特征不变\n",
    "            ]\n",
    "        )\n",
    "\n",
    "    def transform(self):\n",
    "\n",
    "        transformed_data = self.preprocessor.fit_transform(self.data)\n",
    "        \n",
    "        cat_feature_names = self.preprocessor.named_transformers_['cat'].get_feature_names_out(self.categorical_features)\n",
    "    \n",
    "\n",
    "        all_feature_names = list(cat_feature_names) + self.numerical_features\n",
    "\n",
    "        df_transformed = pd.DataFrame(transformed_data, columns=all_feature_names)\n",
    "\n",
    "        return df_transformed\n",
    "\n"
   ]
  },
  {
   "cell_type": "code",
   "execution_count": 6,
   "metadata": {},
   "outputs": [],
   "source": [
    "from sklearn.ensemble import RandomForestClassifier\n",
    "\n",
    "class Model:\n",
    "    def __init__(self, model=RandomForestClassifier, model_params=None):\n",
    "        self.model_class = model\n",
    "        self.model_params = model_params if model_params else {}\n",
    "        self.model = self.model_class(**self.model_params)\n",
    "    \n",
    "    def train(self, X_train, y_train):\n",
    "        \"\"\"\n",
    "        Train the model with feature matrix X_train and target vector y_train.\n",
    "        \"\"\"\n",
    "        self.model.fit(X_train, y_train)\n",
    "\n",
    "    def predict(self, X_test):\n",
    "        \"\"\"\n",
    "        Predict probabilities using the trained model with feature matrix X_test.\n",
    "        \"\"\"\n",
    "        return self.model.predict_proba(X_test)\n"
   ]
  },
  {
   "cell_type": "code",
   "execution_count": 15,
   "metadata": {},
   "outputs": [],
   "source": [
    "data_loader = DataLoader('sample_diabetes_mellitus_data.csv')\n",
    "data=data_loader.load_data()"
   ]
  },
  {
   "cell_type": "code",
   "execution_count": 17,
   "metadata": {},
   "outputs": [],
   "source": [
    "drop_na_preprocessor = DropNaPreprocessor(columns=['age', 'gender', 'ethnicity'])\n",
    "data = drop_na_preprocessor.process(data)"
   ]
  },
  {
   "cell_type": "code",
   "execution_count": 18,
   "metadata": {},
   "outputs": [],
   "source": [
    "fill_na_preprocessor = FillNaPreprocessor(columns=['height', 'weight'])\n",
    "data = fill_na_preprocessor.process(data)"
   ]
  },
  {
   "cell_type": "code",
   "execution_count": 19,
   "metadata": {},
   "outputs": [],
   "source": [
    "dataTransformer_train=DataTransformer(data)\n",
    "data=dataTransformer_train.transform()"
   ]
  },
  {
   "cell_type": "code",
   "execution_count": 20,
   "metadata": {},
   "outputs": [],
   "source": [
    "data=data.dropna()"
   ]
  },
  {
   "cell_type": "code",
   "execution_count": 22,
   "metadata": {},
   "outputs": [],
   "source": [
    "train_data,test_data=data_loader.split_data(data)\n",
    "X_train=train_data.iloc[:,:-1]\n",
    "y_train=train_data.iloc[:,-1]"
   ]
  },
  {
   "cell_type": "code",
   "execution_count": 23,
   "metadata": {},
   "outputs": [],
   "source": [
    "model=Model( model=RandomForestClassifier, model_params=None)\n",
    "model.train(X_train,y_train)"
   ]
  },
  {
   "cell_type": "code",
   "execution_count": 27,
   "metadata": {},
   "outputs": [],
   "source": [
    "X_test=test_data.iloc[:,:-1]\n",
    "y_test=test_data.iloc[:,-1]"
   ]
  },
  {
   "cell_type": "code",
   "execution_count": 32,
   "metadata": {},
   "outputs": [
    {
     "data": {
      "text/plain": [
       "8417    0.0\n",
       "7784    0.0\n",
       "9151    0.0\n",
       "8482    0.0\n",
       "7714    0.0\n",
       "8810    0.0\n",
       "7745    1.0\n",
       "9259    0.0\n",
       "8391    0.0\n",
       "9246    0.0\n",
       "8899    1.0\n",
       "8553    0.0\n",
       "7859    0.0\n",
       "8986    0.0\n",
       "8393    0.0\n",
       "7974    0.0\n",
       "7836    0.0\n",
       "9108    0.0\n",
       "8200    0.0\n",
       "7806    0.0\n",
       "9109    0.0\n",
       "8442    0.0\n",
       "8574    0.0\n",
       "9351    0.0\n",
       "7759    0.0\n",
       "9241    0.0\n",
       "8813    0.0\n",
       "8366    1.0\n",
       "8148    0.0\n",
       "7846    0.0\n",
       "8464    0.0\n",
       "8928    0.0\n",
       "9352    0.0\n",
       "7802    0.0\n",
       "8103    0.0\n",
       "8031    0.0\n",
       "8621    0.0\n",
       "9105    0.0\n",
       "8399    0.0\n",
       "8132    0.0\n",
       "8179    0.0\n",
       "7933    0.0\n",
       "7792    0.0\n",
       "8273    0.0\n",
       "8933    0.0\n",
       "8792    0.0\n",
       "7895    0.0\n",
       "8494    0.0\n",
       "Name: diabetes_mellitus, dtype: float64"
      ]
     },
     "execution_count": 32,
     "metadata": {},
     "output_type": "execute_result"
    }
   ],
   "source": [
    "y_test"
   ]
  },
  {
   "cell_type": "code",
   "execution_count": 35,
   "metadata": {},
   "outputs": [
    {
     "data": {
      "text/plain": [
       "0.6"
      ]
     },
     "execution_count": 35,
     "metadata": {},
     "output_type": "execute_result"
    }
   ],
   "source": [
    "from sklearn.metrics import roc_auc_score\n",
    "y_pre_pro= model.predict(X_test)[:, 1]\n",
    "roc_auc=roc_auc_score(y_test,y_pre_pro)\n",
    "roc_auc"
   ]
  },
  {
   "cell_type": "code",
   "execution_count": null,
   "metadata": {},
   "outputs": [],
   "source": []
  },
  {
   "cell_type": "code",
   "execution_count": null,
   "metadata": {},
   "outputs": [],
   "source": []
  },
  {
   "cell_type": "code",
   "execution_count": null,
   "metadata": {},
   "outputs": [],
   "source": []
  },
  {
   "cell_type": "code",
   "execution_count": null,
   "metadata": {},
   "outputs": [],
   "source": []
  },
  {
   "cell_type": "code",
   "execution_count": null,
   "metadata": {},
   "outputs": [],
   "source": []
  },
  {
   "cell_type": "code",
   "execution_count": null,
   "metadata": {},
   "outputs": [],
   "source": []
  },
  {
   "cell_type": "code",
   "execution_count": null,
   "metadata": {},
   "outputs": [],
   "source": []
  },
  {
   "cell_type": "code",
   "execution_count": null,
   "metadata": {},
   "outputs": [],
   "source": []
  },
  {
   "cell_type": "code",
   "execution_count": null,
   "metadata": {},
   "outputs": [],
   "source": []
  },
  {
   "cell_type": "code",
   "execution_count": null,
   "metadata": {},
   "outputs": [],
   "source": []
  },
  {
   "cell_type": "code",
   "execution_count": 1,
   "metadata": {},
   "outputs": [],
   "source": []
  }
 ],
 "metadata": {
  "kernelspec": {
   "display_name": "base",
   "language": "python",
   "name": "python3"
  },
  "language_info": {
   "codemirror_mode": {
    "name": "ipython",
    "version": 3
   },
   "file_extension": ".py",
   "mimetype": "text/x-python",
   "name": "python",
   "nbconvert_exporter": "python",
   "pygments_lexer": "ipython3",
   "version": "3.9.13"
  }
 },
 "nbformat": 4,
 "nbformat_minor": 2
}
